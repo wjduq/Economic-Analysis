{
 "cells": [
  {
   "cell_type": "code",
   "execution_count": 1,
   "metadata": {},
   "outputs": [],
   "source": [
    "#Import Necessary Library's\n",
    "import pandas as pd\n",
    "import numpy as np\n",
    "import json\n",
    "from pathlib import Path\n",
    "import seaborn as sn\n",
    "import matplotlib.pyplot as plt"
   ]
  },
  {
   "cell_type": "code",
   "execution_count": 2,
   "metadata": {},
   "outputs": [],
   "source": [
    "#Import Data\n",
    "data_folder = Path(\"./Data/\")"
   ]
  },
  {
   "cell_type": "code",
   "execution_count": 3,
   "metadata": {},
   "outputs": [],
   "source": [
    "HappinessFile = data_folder / \"2019 Happiness Data.csv\"\n",
    "\n",
    "#Import Data to Pandas DataFrame\n",
    "happinessDF = pd.read_csv(HappinessFile)\n",
    "happinessDF2 = happinessDF.drop(happinessDF.columns.difference([\"Country or region\", \"Score\"]), axis = 1)\n",
    "happinessDF2.rename(columns = {\"Score\": \"Happiness Score\", \"Country or region\": \"Country Name\"}, inplace = True)\n",
    "happinessDF2.set_index(\"Country Name\", inplace = True)"
   ]
  },
  {
   "cell_type": "code",
   "execution_count": 4,
   "metadata": {},
   "outputs": [],
   "source": [
    "#Import Data\n",
    "FreedomFile = data_folder / \"economic_freedom_index2019_data.csv\"\n",
    "\n",
    "#Import Data to Pandas DataFrame\n",
    "economicFreedomDF = pd.read_csv(FreedomFile,encoding='latin-1')\n",
    "economicFreedomDF = economicFreedomDF.dropna(subset=[\"World Rank\"])\n",
    "economicFreedomDF2 = economicFreedomDF.drop(economicFreedomDF.columns.difference([\"Country Name\",\"2019 Score\", \"GDP (Billions, PPP)\", \"GDP per Capita (PPP)\",\"Financial Freedom\", \"Population (Millions)\", \"Unemployment (%)\", \"Inflation (%)\"]), axis = 1)\n",
    "economicFreedomDF2.rename(columns = {\"2019 Score\": \"2019 Economic Freedom\"}, inplace = True)\n",
    "economicFreedomDF2.set_index(\"Country Name\", inplace = True)"
   ]
  },
  {
   "cell_type": "code",
   "execution_count": 7,
   "metadata": {},
   "outputs": [
    {
     "name": "stderr",
     "output_type": "stream",
     "text": [
      "C:\\Users\\Test\\anaconda3\\lib\\site-packages\\ipykernel_launcher.py:4: FutureWarning: The default value of regex will change from True to False in a future version. In addition, single character regular expressions will *not* be treated as literal strings when regex=True.\n",
      "  after removing the cwd from sys.path.\n",
      "C:\\Users\\Test\\anaconda3\\lib\\site-packages\\ipykernel_launcher.py:8: FutureWarning: The default value of regex will change from True to False in a future version. In addition, single character regular expressions will *not* be treated as literal strings when regex=True.\n",
      "  \n"
     ]
    }
   ],
   "source": [
    "specialChars = \"!#$%^&*(), \" \n",
    "\n",
    "#economicFreedomDF2[\"GDP (Billions, PPP)\"] = economicFreedomDF2[\"GDP (Billions, PPP)\"].str.replace(specialChars,\"\")\n",
    "economicFreedomDF2[\"GDP (Billions, PPP)\"] = economicFreedomDF2[\"GDP (Billions, PPP)\"].str.replace(\"$\",\"\")\n",
    "economicFreedomDF2[\"GDP (Billions, PPP)\"] = economicFreedomDF2[\"GDP (Billions, PPP)\"].str.replace(\",\",\"\")\n",
    "economicFreedomDF2[\"GDP (Billions, PPP)\"] = economicFreedomDF2[\"GDP (Billions, PPP)\"].str.strip()\n",
    "\n",
    "economicFreedomDF2[\"GDP per Capita (PPP)\"] = economicFreedomDF2[\"GDP per Capita (PPP)\"].str.replace(\"$\",\"\")\n",
    "economicFreedomDF2[\"GDP per Capita (PPP)\"] = economicFreedomDF2[\"GDP per Capita (PPP)\"].str.replace(\",\",\"\")\n",
    "economicFreedomDF2[\"GDP per Capita (PPP)\"] = economicFreedomDF2[\"GDP per Capita (PPP)\"].str.strip()"
   ]
  },
  {
   "cell_type": "code",
   "execution_count": 11,
   "metadata": {
    "scrolled": true
   },
   "outputs": [
    {
     "data": {
      "image/png": "[encoded data removed]",
      "text/plain": [
       "<Figure size 432x288 with 2 Axes>"
      ]
     },
     "metadata": {
      "needs_background": "light"
     },
     "output_type": "display_data"
    }
   ],
   "source": [
    "df = happinessDF2.join(economicFreedomDF2, on = 'Country Name', how = \"inner\")\n",
    "df.astype(float)\n",
    "corrMatrix = df.corr()\n",
    "sn.heatmap(corrMatrix, annot=True)\n",
    "plt.show()"
   ]
  },
  {
   "cell_type": "code",
   "execution_count": null,
   "metadata": {},
   "outputs": [],
   "source": []
  },
  {
   "cell_type": "markdown",
   "metadata": {},
   "source": [
    "Below is the old way we were importing data. Keeping it in case new way does not work."
   ]
  },
  {
   "cell_type": "code",
   "execution_count": null,
   "metadata": {},
   "outputs": [],
   "source": [
    "#fileName = \"./Data/2019 Happiness Data.csv\"\n",
    "#happinessDF = pd.read_csv(fileName) \n",
    "\n",
    "#fileName = \"./Data/economic_freedom_index2019_data.csv\"\n",
    "#economicFreedomDF = pd.read_csv(fileName,encoding='latin-1')\n",
    "\n",
    "\n",
    "#json_file = open(\"countries.geo.json\", \"r\")\n",
    "#countries_geojson = json.load(json_file)\n",
    "\n",
    "#json_file = open(\"factbook-country-profiles.json\", \"r\")\n",
    "#factbook = json.loads(json.dumps(\"factbook-country-profiles.json\"))"
   ]
  },
  {
   "cell_type": "code",
   "execution_count": null,
   "metadata": {},
   "outputs": [],
   "source": [
    "factbook-country-profiles.json = factbook-country-profiles.json.replace(\"\\'\", \"\\\"\")\n",
    "json_file = open(\"factbook-country-profiles.json\", \"r\")\n",
    "factbook = json.load(json_file)"
   ]
  },
  {
   "cell_type": "code",
   "execution_count": null,
   "metadata": {},
   "outputs": [],
   "source": [
    "factbook = json.loads(json.dumps(\"factbook-country-profiles.json\"))"
   ]
  },
  {
   "cell_type": "code",
   "execution_count": null,
   "metadata": {},
   "outputs": [],
   "source": [
    "String exampleRequest = FileUtils.readFileToString(new File(\"exampleJsonRequest.json\"), StandardCharsets.UTF_8);\n",
    "factbook"
   ]
  },
  {
   "cell_type": "code",
   "execution_count": null,
   "metadata": {},
   "outputs": [],
   "source": [
    "json.load(json_file)"
   ]
  },
  {
   "cell_type": "code",
   "execution_count": null,
   "metadata": {},
   "outputs": [],
   "source": []
  }
 ],
 "metadata": {
  "interpreter": {
   "hash": "40d3a090f54c6569ab1632332b64b2c03c39dcf918b08424e98f38b5ae0af88f"
  },
  "kernelspec": {
   "display_name": "Python 3 (ipykernel)",
   "language": "python",
   "name": "python3"
  },
  "language_info": {
   "codemirror_mode": {
    "name": "ipython",
    "version": 3
   },
   "file_extension": ".py",
   "mimetype": "text/x-python",
   "name": "python",
   "nbconvert_exporter": "python",
   "pygments_lexer": "ipython3",
   "version": "3.7.11"
  }
 },
 "nbformat": 4,
 "nbformat_minor": 2
}
