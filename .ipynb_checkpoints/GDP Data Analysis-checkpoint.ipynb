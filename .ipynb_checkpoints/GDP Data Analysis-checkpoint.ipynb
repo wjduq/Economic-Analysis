{
 "cells": [
  {
   "cell_type": "code",
   "execution_count": null,
   "id": "equivalent-bikini",
   "metadata": {},
   "outputs": [],
   "source": [
    "#Import Necessary Library's\n",
    "import pandas as pd\n",
    "import json\n",
    "from pathlib import Path"
   ]
  },
  {
   "cell_type": "code",
   "execution_count": null,
   "id": "sustained-enhancement",
   "metadata": {},
   "outputs": [],
   "source": [
    "#Import Data\n",
    "data_folder = Path(\"./Data/\")\n",
    "GDPData = data_folder / \"GDPfinal.json\"\n",
    "\n",
    "# read in json file of GDP data \n",
    "data_df = pd.read_json(GDPData)\n",
    "data_df.set_index(\"Country\", inplace = True)\n",
    "data_df"
   ]
  }
 ],
 "metadata": {
  "kernelspec": {
   "display_name": "Python 3",
   "language": "python",
   "name": "python3"
  },
  "language_info": {
   "codemirror_mode": {
    "name": "ipython",
    "version": 3
   },
   "file_extension": ".py",
   "mimetype": "text/x-python",
   "name": "python",
   "nbconvert_exporter": "python",
   "pygments_lexer": "ipython3",
   "version": "3.8.5"
  }
 },
 "nbformat": 4,
 "nbformat_minor": 5
}
