{
 "cells": [
  {
   "cell_type": "code",
   "execution_count": null,
   "metadata": {},
   "outputs": [],
   "source": [
    "#Import Necessary Library's\n",
    "import pandas as pd\n",
    "import json\n",
    "from pathlib import Path"
   ]
  },
  {
   "cell_type": "code",
   "execution_count": null,
   "metadata": {},
   "outputs": [],
   "source": [
    "#Import Data\n",
    "data_folder = Path(\"./Data/\")"
   ]
  },
  {
   "cell_type": "code",
   "execution_count": null,
   "metadata": {},
   "outputs": [],
   "source": [
    "HappinessFile = data_folder / \"2019 Happiness Data.csv\"\n",
    "happinessDF = pd.read_csv(HappinessFile)\n",
    "\n",
    "happinessDF2 = happinessDF.set_index(\"Country or region\")\n",
    "happinessDF2"
   ]
  },
  {
   "cell_type": "markdown",
   "metadata": {},
   "source": [
    "Below is the old way we were importing data. Keeping it in case new way does not work."
   ]
  },
  {
   "cell_type": "code",
   "execution_count": null,
   "metadata": {},
   "outputs": [],
   "source": [
    "#fileName = \"./Data/2019 Happiness Data.csv\"\n",
    "#happinessDF = pd.read_csv(fileName) \n",
    "\n",
    "#fileName = \"./Data/economic_freedom_index2019_data.csv\"\n",
    "#economicFreedomDF = pd.read_csv(fileName,encoding='latin-1')\n",
    "\n",
    "\n",
    "#json_file = open(\"countries.geo.json\", \"r\")\n",
    "#countries_geojson = json.load(json_file)\n",
    "\n",
    "#json_file = open(\"factbook-country-profiles.json\", \"r\")\n",
    "#factbook = json.loads(json.dumps(\"factbook-country-profiles.json\"))"
   ]
  },
  {
   "cell_type": "code",
   "execution_count": 1,
   "metadata": {},
   "outputs": [
    {
     "ename": "SyntaxError",
     "evalue": "can't assign to operator (<ipython-input-1-fc47331f0a0a>, line 1)",
     "output_type": "error",
     "traceback": [
      "\u001b[1;36m  File \u001b[1;32m\"<ipython-input-1-fc47331f0a0a>\"\u001b[1;36m, line \u001b[1;32m1\u001b[0m\n\u001b[1;33m    factbook-country-profiles.json = factbook-country-profiles.json.replace(\"\\'\", \"\\\"\")\u001b[0m\n\u001b[1;37m                                                                                       ^\u001b[0m\n\u001b[1;31mSyntaxError\u001b[0m\u001b[1;31m:\u001b[0m can't assign to operator\n"
     ]
    }
   ],
   "source": [
    "factbook-country-profiles.json = factbook-country-profiles.json.replace(\"\\'\", \"\\\"\")\n",
    "json_file = open(\"factbook-country-profiles.json\", \"r\")\n",
    "factbook = json.load(json_file)"
   ]
  },
  {
   "cell_type": "code",
   "execution_count": null,
   "metadata": {},
   "outputs": [],
   "source": [
    "factbook = json.loads(json.dumps(\"factbook-country-profiles.json\"))"
   ]
  },
  {
   "cell_type": "code",
   "execution_count": null,
   "metadata": {},
   "outputs": [],
   "source": [
    "String exampleRequest = FileUtils.readFileToString(new File(\"exampleJsonRequest.json\"), StandardCharsets.UTF_8);\n",
    "factbook"
   ]
  },
  {
   "cell_type": "code",
   "execution_count": null,
   "metadata": {},
   "outputs": [],
   "source": [
    "json.load(json_file)"
   ]
  },
  {
   "cell_type": "code",
   "execution_count": null,
   "metadata": {},
   "outputs": [],
   "source": []
  }
 ],
 "metadata": {
  "interpreter": {
   "hash": "40d3a090f54c6569ab1632332b64b2c03c39dcf918b08424e98f38b5ae0af88f"
  },
  "kernelspec": {
   "display_name": "Python 3",
   "language": "python",
   "name": "python3"
  },
  "language_info": {
   "codemirror_mode": {
    "name": "ipython",
    "version": 3
   },
   "file_extension": ".py",
   "mimetype": "text/x-python",
   "name": "python",
   "nbconvert_exporter": "python",
   "pygments_lexer": "ipython3",
   "version": "3.7.6"
  }
 },
 "nbformat": 4,
 "nbformat_minor": 2
}
